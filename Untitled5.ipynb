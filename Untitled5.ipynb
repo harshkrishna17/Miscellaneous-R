{
 "cells": [
  {
   "cell_type": "markdown",
   "id": "a2367273",
   "metadata": {},
   "source": [
    "# Question 1"
   ]
  },
  {
   "cell_type": "code",
   "execution_count": 1,
   "id": "4b8f0bfa",
   "metadata": {},
   "outputs": [
    {
     "name": "stdout",
     "output_type": "stream",
     "text": [
      "110 60\n"
     ]
    }
   ],
   "source": [
    "a = 40\n",
    "b = 10\n",
    "a = a+b\n",
    "b = a+b\n",
    "a = a+b\n",
    "print(a,b)"
   ]
  },
  {
   "cell_type": "code",
   "execution_count": 4,
   "id": "3160d4e6",
   "metadata": {},
   "outputs": [
    {
     "name": "stdout",
     "output_type": "stream",
     "text": [
      "25\n"
     ]
    }
   ],
   "source": [
    "total = 0\n",
    "N = 10\n",
    "for i in range(1, N+1):\n",
    "    if i%2==0:\n",
    "        continue\n",
    "    for j in range(1, i+1):\n",
    "        total+=1\n",
    "        if j == i/2.0:\n",
    "            break\n",
    "\n",
    "print(total)"
   ]
  },
  {
   "cell_type": "code",
   "execution_count": 5,
   "id": "f65a7659",
   "metadata": {},
   "outputs": [
    {
     "name": "stdout",
     "output_type": "stream",
     "text": [
      "[1, 2, 3, 1, 2, 3]\n"
     ]
    }
   ],
   "source": [
    "a =[1,2,3]\n",
    "b = a*2\n",
    "print(b)"
   ]
  },
  {
   "cell_type": "code",
   "execution_count": 6,
   "id": "fd7ba176",
   "metadata": {},
   "outputs": [],
   "source": [
    "def count_vowels(string):\n",
    "    vowels=0\n",
    "    for i in string:\n",
    "        if(i=='a' or i=='e' or i=='i' or i=='o' or i=='u' or i=='A' or i=='E' or i=='I' or i=='O' or i=='U'):\n",
    "            vowels=vowels+1\n",
    "    return(vowels)"
   ]
  },
  {
   "cell_type": "code",
   "execution_count": 8,
   "id": "15a4094c",
   "metadata": {},
   "outputs": [
    {
     "data": {
      "text/plain": [
       "6"
      ]
     },
     "execution_count": 8,
     "metadata": {},
     "output_type": "execute_result"
    }
   ],
   "source": [
    "count_vowels(string = \"i am a genius\")"
   ]
  },
  {
   "cell_type": "code",
   "execution_count": 10,
   "id": "544d1dde",
   "metadata": {},
   "outputs": [
    {
     "data": {
      "text/plain": [
       "4"
      ]
     },
     "execution_count": 10,
     "metadata": {},
     "output_type": "execute_result"
    }
   ],
   "source": [
    "int(4.00/2.0+2.0)"
   ]
  },
  {
   "cell_type": "code",
   "execution_count": 11,
   "id": "d56bf371",
   "metadata": {},
   "outputs": [
    {
     "data": {
      "text/plain": [
       "'P'"
      ]
     },
     "execution_count": 11,
     "metadata": {},
     "output_type": "execute_result"
    }
   ],
   "source": [
    "str = \"Hello Python\"\n",
    "str[6]"
   ]
  },
  {
   "cell_type": "code",
   "execution_count": 14,
   "id": "75de0114",
   "metadata": {},
   "outputs": [
    {
     "data": {
      "text/plain": [
       "2.5"
      ]
     },
     "execution_count": 14,
     "metadata": {},
     "output_type": "execute_result"
    }
   ],
   "source": [
    "def average(a,b):\n",
    "    avg = (a+b)/2\n",
    "    return(avg)\n",
    "\n",
    "average(2,3)"
   ]
  },
  {
   "cell_type": "markdown",
   "id": "2e6c3a19",
   "metadata": {},
   "source": [
    "only 2nd_string and string% is invalid "
   ]
  },
  {
   "cell_type": "code",
   "execution_count": 19,
   "id": "1c069fb4",
   "metadata": {},
   "outputs": [
    {
     "name": "stdout",
     "output_type": "stream",
     "text": [
      "15\n",
      "19\n",
      "21\n",
      "17\n"
     ]
    }
   ],
   "source": [
    "def add(a=3, b=5, c=7):\n",
    "    return(a+b+c)\n",
    "\n",
    "print(add())\n",
    "print(add(7))\n",
    "print(add(6,8))\n",
    "print(add(c=9))"
   ]
  }
 ],
 "metadata": {
  "kernelspec": {
   "display_name": "Python 3 (ipykernel)",
   "language": "python",
   "name": "python3"
  },
  "language_info": {
   "codemirror_mode": {
    "name": "ipython",
    "version": 3
   },
   "file_extension": ".py",
   "mimetype": "text/x-python",
   "name": "python",
   "nbconvert_exporter": "python",
   "pygments_lexer": "ipython3",
   "version": "3.11.5"
  }
 },
 "nbformat": 4,
 "nbformat_minor": 5
}
